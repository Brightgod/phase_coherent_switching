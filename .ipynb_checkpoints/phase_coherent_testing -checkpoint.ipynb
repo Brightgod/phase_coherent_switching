{
 "cells": [
  {
   "cell_type": "code",
   "execution_count": 1,
   "metadata": {
    "collapsed": true,
    "deletable": true,
    "editable": true
   },
   "outputs": [],
   "source": [
    "import labrad\n",
    "from labrad.units import WithUnit\n",
    "import time\n",
    "from math import log\n",
    "import matplotlib.pyplot as plt\n",
    "import copy"
   ]
  },
  {
   "cell_type": "code",
   "execution_count": 2,
   "metadata": {
    "collapsed": false,
    "deletable": true,
    "editable": true
   },
   "outputs": [
    {
     "name": "stdout",
     "output_type": "stream",
     "text": [
      "Enter username, or blank for the global user (localhost:7682): \n",
      "Enter LabRAD password (localhost:7682): ········\n"
     ]
    }
   ],
   "source": [
    "import labrad\n",
    "scope = labrad.connection().dsox3034a\n",
    "scope.connect((0x0957, 0x17a6, 'MY54100486')) #include S/N if more than one device\n",
    "scope.setAcquireType('hres')\n",
    "scope.setWaveformPoints(100)"
   ]
  },
  {
   "cell_type": "code",
   "execution_count": 3,
   "metadata": {
    "collapsed": true,
    "deletable": true,
    "editable": true
   },
   "outputs": [],
   "source": [
    "cxn = labrad.connect()\n",
    "pulser = cxn.pulser"
   ]
  },
  {
   "cell_type": "code",
   "execution_count": 6,
   "metadata": {
    "collapsed": true,
    "deletable": true,
    "editable": true
   },
   "outputs": [],
   "source": [
    "def pON(n):\n",
    "    return pulser.output('DDS_' + str(n), True)\n",
    "\n",
    "def pOFF(n):\n",
    "    return pulser.output('DDS_' + str(n), False)"
   ]
  },
  {
   "cell_type": "code",
   "execution_count": 132,
   "metadata": {
    "collapsed": false,
    "deletable": true,
    "editable": true
   },
   "outputs": [
    {
     "data": {
      "text/plain": [
       "Value(50.0, 'MHz')"
      ]
     },
     "execution_count": 132,
     "metadata": {},
     "output_type": "execute_result"
    }
   ],
   "source": [
    "pulser.amplitude('DDS_2', WithUnit(10, 'dBm'))\n",
    "pulser.frequency('DDS_2', WithUnit(50, 'MHz'))"
   ]
  },
  {
   "cell_type": "code",
   "execution_count": 125,
   "metadata": {
    "collapsed": false,
    "deletable": true,
    "editable": true
   },
   "outputs": [],
   "source": [
    "#delays determined by characterizing equipment\n",
    "global_delay = 0 #0.375\n",
    "abs_phase = 0   \n",
    "f_delay = 1.0\n",
    "p_delay = 0.5     #0.218 + 0.14\n",
    "a_delay = 0.06\n",
    "total_delay = f_delay + p_delay + a_delay\n",
    "f_delay_u = WithUnit(f_delay, 'us')\n",
    "p_delay_u = WithUnit(p_delay, 'us')\n",
    "a_delay_u = WithUnit(a_delay, 'us')\n",
    "off_amp = WithUnit(-63, 'dBm')\n",
    "\n",
    "def split(DDS_sequence): \n",
    "    off_amp = WithUnit(-63, 'dB')\n",
    "    new_sequence = [] \n",
    "    for dds in DDS_sequence:\n",
    "        start = dds[1][dds[1].units] #us\n",
    "        duration = dds[2][dds[2].units] #us\n",
    "        p_start_u = WithUnit(start - f_delay - p_delay - a_delay, 'us')\n",
    "        f_start_u = WithUnit(start - f_delay - a_delay, 'us')\n",
    "        a_start_u = WithUnit(start - a_delay, 'us')\n",
    "        dds_phase = [(dds[0], p_start_u, p_delay_u, dds[3], WithUnit(-63, 'dBm'), dds[5], dds[6], dds[7])]\n",
    "        dds_freq = [(dds[0], f_start_u, f_delay_u, dds[3], WithUnit(-63, 'dBm'), dds[5], dds[6], dds[7])]\n",
    "        dds_amp = [(dds[0], a_start_u, WithUnit(a_delay + duration, 'us'), dds[3], dds[4], dds[5], dds[6], dds[7])]\n",
    "        new_sequence += dds_phase\n",
    "        new_sequence += dds_freq\n",
    "        new_sequence += dds_amp\n",
    "    return new_sequence\n",
    "   \n",
    "def check(DDS_sequence): \n",
    "    for n in range(0, len(DDS_sequence)-1):\n",
    "        curr_end = DDS_sequence[n][1][DDS_sequence[n][1].units] + DDS_sequence[n][2][DDS_sequence[n][2].units]\n",
    "        next_start = DDS_sequence[n+1][1][DDS_sequence[n+1][1].units]\n",
    "        if (next_start - curr_end <= total_delay): \n",
    "            raise ValueException(\"Time between pulse \", n, \" and pulse \", n+1, \" is too short by \", abs(next_start - curr_end), \".\")      \n",
    "\n",
    "def phase_coherent1(DDS_sequence): #adds in zero pulses\n",
    "    raw_pulses = [[]]\n",
    "    new_pulses = [[]]\n",
    "    for n in range(len(DDS_sequence)):\n",
    "        dds = DDS_sequence[n]\n",
    "        frequency = dds[3][dds[3].units]\n",
    "        start = dds[1][dds[1].units]\n",
    "        duration = dds[2][dds[2].units]\n",
    "        end = start + duration\n",
    "        pulse = []\n",
    "        pulse.append(frequency)\n",
    "        pulse.append(start)\n",
    "        pulse.append(duration) \n",
    "        pulse.append(end)\n",
    "        pulse.append(0) #phase\n",
    "        pulse.append(0) \n",
    "        raw_pulses.append(pulse)\n",
    "    raw_pulses = raw_pulses[1:]\n",
    "    new_pulses[0] = raw_pulses[0]\n",
    "    for m in range(1, len(raw_pulses)): \n",
    "        curr = raw_pulses[m]\n",
    "        last = raw_pulses[m-1]\n",
    "        gap = curr[1] - last[3]\n",
    "        if gap != 0: \n",
    "            zero_pulse = [last[0], last[3], gap, curr[1], 0,  1]\n",
    "            new_pulses.append(zero_pulse)\n",
    "        new_pulses.append(curr)\n",
    "    print \"RAW PULSES\"\n",
    "    for p in raw_pulses: \n",
    "        print p\n",
    "    return new_pulses\n",
    "\n",
    "def phase_coherent2(pulses): #computes phase adjustments\n",
    "    abs_phase = 0\n",
    "    ftp = {}\n",
    "    r_phase = 0\n",
    "    for n in range(len(pulses)):\n",
    "        freq = pulses[n][0]\n",
    "        start = pulses[n][1]\n",
    "        duration = pulses[n][2]\n",
    "        end = pulses[n][3]\n",
    "        phase = pulses[n][4]\n",
    "        is_zero = pulses[n][5]\n",
    "        if freq not in ftp:\n",
    "            abs_phase = compute_phase(abs_phase, duration, freq)\n",
    "            ftp[freq] = (abs_phase, end)\n",
    "            pulses[n][4] = 0\n",
    "            #print \"New frequency: \", freq\n",
    "            #print \"Phase shift: \", 0\n",
    "            #print \"Phase at end of pulse: \", abs_phase\n",
    "        else: \n",
    "            if is_zero: \n",
    "                abs_phase = compute_phase(abs_phase, duration, freq)\n",
    "                #print \"Zero pulse: \", freq\n",
    "                #print \"Phase shift: \", 0\n",
    "                #print \"Phase at end of pulse: \", abs_phase\n",
    "            else: \n",
    "                #print \"Repeat pulse: \", freq\n",
    "                last_phase = compute_phase(ftp[freq][0], start-ftp[freq][1], freq) #phase from last recorded phase + accumulated phase from time\n",
    "                #print \"Last phase for freq + accumulated phase: \", last_phase\n",
    "                #print \"Phase at start of this pulse: \", abs_phase\n",
    "                r_phase = rel_phase(abs_phase, last_phase)\n",
    "                abs_phase = (abs_phase + r_phase)%360\n",
    "                ftp[freq] = (abs_phase, end)\n",
    "                print pulses [n][4]\n",
    "                pulses[n][4] = r_phase + pulses[n][4]\n",
    "                abs_phase = compute_phase(abs_phase, duration, freq)\n",
    "                ftp[freq] = (abs_phase, end)\n",
    "                #print \"Phase shift: \", r_phase\n",
    "                #print \"Phase at end of pulse: \", abs_phase\n",
    "    print \"PULSE TABLE\"\n",
    "    for p in pulses: \n",
    "        print p\n",
    "    return pulses\n",
    "\n",
    "def phase_coherent3(pulses, DDS_sequence): #creates new DDS sequence using phase table and deletes zero pulses. \n",
    "    new_sequence= []\n",
    "    n = 0\n",
    "    print \"FINAL SEQUENCE\"\n",
    "    for pulse in pulses: \n",
    "        if pulse[5]:\n",
    "            continue\n",
    "        else: \n",
    "            print pulse\n",
    "            new_dds = [(copy.deepcopy(DDS_sequence[n][0]), copy.deepcopy(DDS_sequence[n][1]), \n",
    "                        copy.deepcopy(DDS_sequence[n][2]), copy.deepcopy(DDS_sequence[n][3]), \n",
    "                        copy.deepcopy(DDS_sequence[n][4]), WithUnit(pulse[4], 'deg'), #use this as adjustment parameter? \n",
    "                        copy.deepcopy(DDS_sequence[n][6]), copy.deepcopy(DDS_sequence[n][7]))]\n",
    "            new_sequence += new_dds #deep copy error\n",
    "            n+=1\n",
    "\n",
    "    for s in new_sequence: \n",
    "        print s\n",
    "    return new_sequence\n",
    "\n",
    "def phase_coherent(DDS_sequence): \n",
    "    pulse_table = phase_coherent1(DDS_sequence)\n",
    "    phase_updated_pulse_table = phase_coherent2(pulse_table)\n",
    "    return phase_coherent3(phase_updated_pulse_table, DDS_sequence)\n",
    "\n",
    "def rel_phase(p1, p2): \n",
    "    diff = p1-p2\n",
    "    if diff < 0: \n",
    "        return (diff+360)%360\n",
    "    else: \n",
    "        return diff%360\n",
    "\n",
    "def compute_phase(initial_phase, dt, frequency): \n",
    "    phase = (dt*frequency*360)%360\n",
    "    return (initial_phase + phase)%360\n",
    "                            \n",
    "def process_sequence(dds_sequence): \n",
    "    return phase_coherent(split(dds_sequence))\n"
   ]
  },
  {
   "cell_type": "code",
   "execution_count": 130,
   "metadata": {
    "collapsed": false,
    "deletable": true,
    "editable": true,
    "scrolled": false
   },
   "outputs": [
    {
     "name": "stdout",
     "output_type": "stream",
     "text": [
      "Starting sequence...\n",
      "RAW PULSES\n",
      "[100.0, 8.44, 0.5, 8.94, 0, 0]\n",
      "[100.0, 8.94, 1.0, 9.94, 0, 0]\n",
      "[100.0, 9.94, 2.06, 12.0, 0, 0]\n",
      "[50.0, 13.44, 0.5, 13.94, 0, 0]\n",
      "[50.0, 13.94, 1.0, 14.94, 0, 0]\n",
      "[50.0, 14.94, 2.06, 17.0, 0, 0]\n",
      "[100.0, 18.84, 0.5, 19.34, 0, 0]\n",
      "[100.0, 19.34, 1.0, 20.34, 0, 0]\n",
      "[100.0, 20.34, 2.06, 22.4, 0, 0]\n",
      "[50.0, 23.44, 0.5, 23.94, 0, 0]\n",
      "[50.0, 23.94, 1.0, 24.94, 0, 0]\n",
      "[50.0, 24.94, 2.06, 27.0, 0, 0]\n",
      "0\n",
      "0\n",
      "0\n",
      "0\n",
      "0\n",
      "0\n",
      "0\n",
      "0\n",
      "0\n",
      "0\n",
      "PULSE TABLE\n",
      "[100.0, 8.44, 0.5, 8.94, 0, 0]\n",
      "[100.0, 8.94, 1.0, 9.94, 0.0, 0]\n",
      "[100.0, 9.94, 2.06, 12.0, 0.0, 0]\n",
      "[100.0, 12.0, 1.4399999999999995, 13.44, 0, 1]\n",
      "[50.0, 13.44, 0.5, 13.94, 0, 0]\n",
      "[50.0, 13.94, 1.0, 14.94, 0.0, 0]\n",
      "[50.0, 14.94, 2.06, 17.0, 0.0, 0]\n",
      "[50.0, 17.0, 1.8399999999999999, 18.84, 0, 1]\n",
      "[100.0, 18.84, 0.5, 19.34, 359.9999999999782, 0]\n",
      "[100.0, 19.34, 1.0, 20.34, 0.0, 0]\n",
      "[100.0, 20.34, 2.06, 22.4, 0.0, 0]\n",
      "[100.0, 22.4, 1.0400000000000027, 23.44, 0, 1]\n",
      "[50.0, 23.44, 0.5, 23.94, 5.820766091346741e-11, 0]\n",
      "[50.0, 23.94, 1.0, 24.94, 0.0, 0]\n",
      "[50.0, 24.94, 2.06, 27.0, 0.0, 0]\n",
      "FINAL SEQUENCE\n",
      "[100.0, 8.44, 0.5, 8.94, 0, 0]\n",
      "[100.0, 8.94, 1.0, 9.94, 0.0, 0]\n",
      "[100.0, 9.94, 2.06, 12.0, 0.0, 0]\n",
      "[50.0, 13.44, 0.5, 13.94, 0, 0]\n",
      "[50.0, 13.94, 1.0, 14.94, 0.0, 0]\n",
      "[50.0, 14.94, 2.06, 17.0, 0.0, 0]\n",
      "[100.0, 18.84, 0.5, 19.34, 359.9999999999782, 0]\n",
      "[100.0, 19.34, 1.0, 20.34, 0.0, 0]\n",
      "[100.0, 20.34, 2.06, 22.4, 0.0, 0]\n",
      "[50.0, 23.44, 0.5, 23.94, 5.820766091346741e-11, 0]\n",
      "[50.0, 23.94, 1.0, 24.94, 0.0, 0]\n",
      "[50.0, 24.94, 2.06, 27.0, 0.0, 0]\n",
      "('DDS_2', Value(8.44, 'us'), Value(0.5, 'us'), Value(100.0, 'MHz'), Value(-63.0, 'dBm'), Value(0.0, 'deg'), Value(0.0, 'MHz'), Value(0.0, 'dB'))\n",
      "('DDS_2', Value(8.94, 'us'), Value(1.0, 'us'), Value(100.0, 'MHz'), Value(-63.0, 'dBm'), Value(0.0, 'deg'), Value(0.0, 'MHz'), Value(0.0, 'dB'))\n",
      "('DDS_2', Value(9.94, 'us'), Value(2.06, 'us'), Value(100.0, 'MHz'), Value(15.0, 'dBm'), Value(0.0, 'deg'), Value(0.0, 'MHz'), Value(0.0, 'dB'))\n",
      "('DDS_2', Value(13.44, 'us'), Value(0.5, 'us'), Value(50.0, 'MHz'), Value(-63.0, 'dBm'), Value(0.0, 'deg'), Value(0.0, 'MHz'), Value(0.0, 'dB'))\n",
      "('DDS_2', Value(13.94, 'us'), Value(1.0, 'us'), Value(50.0, 'MHz'), Value(-63.0, 'dBm'), Value(0.0, 'deg'), Value(0.0, 'MHz'), Value(0.0, 'dB'))\n",
      "('DDS_2', Value(14.94, 'us'), Value(2.06, 'us'), Value(50.0, 'MHz'), Value(15.0, 'dBm'), Value(0.0, 'deg'), Value(0.0, 'MHz'), Value(0.0, 'dB'))\n",
      "('DDS_2', Value(18.84, 'us'), Value(0.5, 'us'), Value(100.0, 'MHz'), Value(-63.0, 'dBm'), Value(359.9999999999782, 'deg'), Value(0.0, 'MHz'), Value(0.0, 'dB'))\n",
      "('DDS_2', Value(19.34, 'us'), Value(1.0, 'us'), Value(100.0, 'MHz'), Value(-63.0, 'dBm'), Value(0.0, 'deg'), Value(0.0, 'MHz'), Value(0.0, 'dB'))\n",
      "('DDS_2', Value(20.34, 'us'), Value(2.06, 'us'), Value(100.0, 'MHz'), Value(15.0, 'dBm'), Value(0.0, 'deg'), Value(0.0, 'MHz'), Value(0.0, 'dB'))\n",
      "('DDS_2', Value(23.44, 'us'), Value(0.5, 'us'), Value(50.0, 'MHz'), Value(-63.0, 'dBm'), Value(5.820766091346741e-11, 'deg'), Value(0.0, 'MHz'), Value(0.0, 'dB'))\n",
      "('DDS_2', Value(23.94, 'us'), Value(1.0, 'us'), Value(50.0, 'MHz'), Value(-63.0, 'dBm'), Value(0.0, 'deg'), Value(0.0, 'MHz'), Value(0.0, 'dB'))\n",
      "('DDS_2', Value(24.94, 'us'), Value(2.06, 'us'), Value(50.0, 'MHz'), Value(15.0, 'dBm'), Value(0.0, 'deg'), Value(0.0, 'MHz'), Value(0.0, 'dB'))\n",
      "Sequence done.\n"
     ]
    }
   ],
   "source": [
    "amp = WithUnit(8, 'dBm')\n",
    "amp1 = WithUnit(15, 'dBm')\n",
    "phase = WithUnit(0,'deg')\n",
    "flip_phase = WithUnit(180,'deg')\n",
    "amp_ramp_rate = WithUnit(0,'dB')\n",
    "freq_ramp_rate = WithUnit(0,'MHz')\n",
    "\n",
    "### DEFINE DDS SEQUENCE ###\n",
    "t3 = [\n",
    "#('DDS_1', WithUnit(5,'us'), WithUnit(110.00,  'us'), WithUnit(80.0,   'MHz'), amp, phase, freq_ramp_rate, amp_ramp_rate),\n",
    "('DDS_2', WithUnit(10,'us'), WithUnit(2,  'us'), WithUnit(100.0,   'MHz'), amp1, phase, freq_ramp_rate, amp_ramp_rate),\n",
    "('DDS_2', WithUnit(15,'us'), WithUnit(2,  'us'), WithUnit(50.0,   'MHz'), amp1, phase, freq_ramp_rate, amp_ramp_rate),\n",
    "('DDS_2', WithUnit(20.4,'us'), WithUnit(2,  'us'), WithUnit(100.0,   'MHz'), amp1, WithUnit(170,'deg'), freq_ramp_rate, amp_ramp_rate),\n",
    "('DDS_2', WithUnit(25,'us'), WithUnit(2,  'us'), WithUnit(50.0,   'MHz'), amp1, phase, freq_ramp_rate, amp_ramp_rate),\n",
    "]\n",
    "\n",
    "t4 = [\n",
    "#('DDS_1', WithUnit(5,'us'), WithUnit(110.00,  'us'), WithUnit(80.0,   'MHz'), amp, phase, freq_ramp_rate, amp_ramp_rate),\n",
    "('DDS_2', WithUnit(10,'us'), WithUnit(4.00,  'us'), WithUnit(20.0,   'MHz'), amp1, phase, freq_ramp_rate, amp_ramp_rate),\n",
    "('DDS_2', WithUnit(10.00,'us'), WithUnit(4.00,  'us'), WithUnit(20.0,   'MHz'), amp1, flip_phase, freq_ramp_rate, amp_ramp_rate),\n",
    "('DDS_2', WithUnit(18,'us'), WithUnit(4.00,  'us'), WithUnit(20.0,   'MHz'), amp1, flip_phase, freq_ramp_rate, amp_ramp_rate),\n",
    "('DDS_2', WithUnit(22,'us'), WithUnit(4.00,  'us'), WithUnit(20.0,   'MHz'), amp1, phase, freq_ramp_rate, amp_ramp_rate),\n",
    "]\n",
    "\n",
    "### DEFINE TTL SEQUENCE ###\n",
    "t3_switch_ttl = [(10,10), (40,10), (70,10), (100, 10)]\n",
    "t4_switch_ttl = [(10,2), (14,2), (18,2), (22, 2)]\n",
    "\n",
    "### RUN PROCEDURE ###\n",
    "print \"Starting sequence...\"\n",
    "\n",
    "scope.single()\n",
    "time.sleep(1)\n",
    "pulser.amplitude('DDS_1', amp)\n",
    "pulser.frequency('DDS_1', WithUnit(100.0,   'MHz'))\n",
    "pulser.frequency('DDS_2', WithUnit(100.0,   'MHz'))\n",
    "pulser.amplitude('DDS_2',WithUnit(-60,'dBm'))\n",
    "pulser.new_sequence()\n",
    "        \n",
    "for ttl in t3_switch_ttl: \n",
    "    pulser.add_ttl_pulse('ttl_3',WithUnit(ttl[0],'us'),WithUnit(ttl[1],'us'))\n",
    "        \n",
    "pulser.add_dds_pulses(process_sequence(t3))\n",
    "pulser.program_sequence()\n",
    "pulser.start_number(1)\n",
    "pulser.wait_sequence_done()\n",
    "pulser.stop_sequence()\n",
    "pulser.amplitude('DDS_1',WithUnit(-63,'dBm'))\n",
    "pulser.amplitude('DDS_2',WithUnit(-63,'dBm'))\n",
    "time.sleep(1)\n",
    "print \"Sequence done.\""
   ]
  },
  {
   "cell_type": "code",
   "execution_count": 131,
   "metadata": {
    "collapsed": false,
    "deletable": true,
    "editable": true
   },
   "outputs": [
    {
     "data": {
      "text/plain": [
       "LabRAD Server: Pulser (ID=4)\n",
       "\n",
       "\n",
       "\n",
       "\n",
       "Settings:\n",
       "    add_dds_pulses\n",
       "    add_ttl_pulse\n",
       "    add_ttl_pulses\n",
       "    amplitude\n",
       "    clear_dds_lock\n",
       "    complete_infinite_iteration\n",
       "    debug\n",
       "    echo\n",
       "    extend_sequence_length\n",
       "    frequency\n",
       "    get_channels\n",
       "    get_collection_mode\n",
       "    get_collection_time\n",
       "    get_dds_amplitude_range\n",
       "    get_dds_channels\n",
       "    get_dds_frequency_range\n",
       "    get_line_trigger_limits\n",
       "    get_pmt_counts\n",
       "    get_readout_counts\n",
       "    get_secondary_pmt_counts\n",
       "    get_state\n",
       "    get_timetag_resolution\n",
       "    get_timetags\n",
       "    human_readable_dds\n",
       "    human_readable_ttl\n",
       "    internal_advance_dds\n",
       "    internal_reset_dds\n",
       "    line_trigger_duration\n",
       "    line_trigger_state\n",
       "    new_sequence\n",
       "    output\n",
       "    program_sequence\n",
       "    reinitialize_dds\n",
       "    repeatitions_completed\n",
       "    reset_fifo_normal\n",
       "    reset_readout_counts\n",
       "    reset_timetags\n",
       "    set_collection_time\n",
       "    set_mode\n",
       "    signal__log\n",
       "    signal__new_dds_parameter\n",
       "    signal__new_line_trigger_parameter\n",
       "    signal__switch_toggled\n",
       "    start_infinite\n",
       "    start_number\n",
       "    start_single\n",
       "    stop_sequence\n",
       "    switch_auto\n",
       "    switch_manual\n",
       "    wait_sequence_done"
      ]
     },
     "execution_count": 131,
     "metadata": {},
     "output_type": "execute_result"
    }
   ],
   "source": [
    "pulser"
   ]
  },
  {
   "cell_type": "code",
   "execution_count": 150,
   "metadata": {
    "collapsed": false,
    "deletable": true,
    "editable": true
   },
   "outputs": [
    {
     "name": "stdout",
     "output_type": "stream",
     "text": [
      "Starting sequence...\n",
      "Sequence done.\n"
     ]
    }
   ],
   "source": [
    "### RUN PROCEDURE ###\n",
    "print \"Starting sequence...\"\n",
    "\n",
    "scope.single()\n",
    "time.sleep(1)\n",
    "pulser.amplitude('DDS_1',WithUnit(-63,'dBm'))\n",
    "pulser.amplitude('DDS_2',WithUnit(-63,'dBm'))\n",
    "pulser.new_sequence()\n",
    "        \n",
    "for ttl in t3_switch_ttl: \n",
    "    pulser.add_ttl_pulse('ttl_3',WithUnit(ttl[0],'us'),WithUnit(ttl[1],'us'))\n",
    "        \n",
    "pulser.add_dds_pulses(t3)\n",
    "pulser.program_sequence()\n",
    "pulser.start_number(1)\n",
    "pulser.wait_sequence_done()\n",
    "pulser.stop_sequence()\n",
    "pulser.amplitude('DDS_1',WithUnit(-63,'dBm'))\n",
    "pulser.amplitude('DDS_2',WithUnit(-63,'dBm'))\n",
    "time.sleep(1)\n",
    "print \"Sequence done.\""
   ]
  },
  {
   "cell_type": "code",
   "execution_count": 243,
   "metadata": {
    "collapsed": false,
    "deletable": true,
    "editable": true
   },
   "outputs": [
    {
     "data": {
      "text/plain": [
       "Value(60.0, 'MHz')"
      ]
     },
     "execution_count": 243,
     "metadata": {},
     "output_type": "execute_result"
    }
   ],
   "source": [
    "pulser.amplitude('DDS_1',WithUnit(5,'dBm'))\n",
    "pulser.amplitude('DDS_2',WithUnit(10,'dBm'))\n",
    "pulser.frequency('DDS_1',WithUnit(60,'MHz'))\n",
    "pulser.frequency('DDS_2',WithUnit(60,'MHz'))"
   ]
  },
  {
   "cell_type": "code",
   "execution_count": 318,
   "metadata": {
    "collapsed": false,
    "deletable": true,
    "editable": true
   },
   "outputs": [
    {
     "data": {
      "text/plain": [
       "LabRAD Server: Pulser (ID=4)\n",
       "\n",
       "\n",
       "\n",
       "\n",
       "Settings:\n",
       "    add_dds_pulses\n",
       "    add_ttl_pulse\n",
       "    add_ttl_pulses\n",
       "    amplitude\n",
       "    clear_dds_lock\n",
       "    complete_infinite_iteration\n",
       "    debug\n",
       "    echo\n",
       "    extend_sequence_length\n",
       "    frequency\n",
       "    get_channels\n",
       "    get_collection_mode\n",
       "    get_collection_time\n",
       "    get_dds_amplitude_range\n",
       "    get_dds_channels\n",
       "    get_dds_frequency_range\n",
       "    get_line_trigger_limits\n",
       "    get_pmt_counts\n",
       "    get_readout_counts\n",
       "    get_secondary_pmt_counts\n",
       "    get_state\n",
       "    get_timetag_resolution\n",
       "    get_timetags\n",
       "    human_readable_dds\n",
       "    human_readable_ttl\n",
       "    internal_advance_dds\n",
       "    internal_reset_dds\n",
       "    line_trigger_duration\n",
       "    line_trigger_state\n",
       "    new_sequence\n",
       "    output\n",
       "    program_sequence\n",
       "    reinitialize_dds\n",
       "    repeatitions_completed\n",
       "    reset_fifo_normal\n",
       "    reset_readout_counts\n",
       "    reset_timetags\n",
       "    set_collection_time\n",
       "    set_mode\n",
       "    signal__log\n",
       "    signal__new_dds_parameter\n",
       "    signal__new_line_trigger_parameter\n",
       "    signal__switch_toggled\n",
       "    start_infinite\n",
       "    start_number\n",
       "    start_single\n",
       "    stop_sequence\n",
       "    switch_auto\n",
       "    switch_manual\n",
       "    wait_sequence_done"
      ]
     },
     "execution_count": 318,
     "metadata": {},
     "output_type": "execute_result"
    }
   ],
   "source": [
    "pulser"
   ]
  },
  {
   "cell_type": "code",
   "execution_count": null,
   "metadata": {
    "collapsed": true,
    "deletable": true,
    "editable": true
   },
   "outputs": [],
   "source": []
  }
 ],
 "metadata": {
  "kernelspec": {
   "display_name": "Python 2",
   "language": "python",
   "name": "python2"
  },
  "language_info": {
   "codemirror_mode": {
    "name": "ipython",
    "version": 2
   },
   "file_extension": ".py",
   "mimetype": "text/x-python",
   "name": "python",
   "nbconvert_exporter": "python",
   "pygments_lexer": "ipython2",
   "version": "2.7.3"
  }
 },
 "nbformat": 4,
 "nbformat_minor": 2
}
