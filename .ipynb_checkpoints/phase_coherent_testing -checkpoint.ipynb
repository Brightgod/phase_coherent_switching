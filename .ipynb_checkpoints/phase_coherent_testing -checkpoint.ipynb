{
 "cells": [
  {
   "cell_type": "code",
   "execution_count": 5,
   "metadata": {
    "collapsed": true,
    "deletable": true,
    "editable": true
   },
   "outputs": [],
   "source": [
    "import labrad\n",
    "from labrad.units import WithUnit\n",
    "import time\n",
    "from math import log\n",
    "import matplotlib.pyplot as plt"
   ]
  },
  {
   "cell_type": "code",
   "execution_count": 6,
   "metadata": {
    "collapsed": false,
    "deletable": true,
    "editable": true
   },
   "outputs": [
    {
     "name": "stdout",
     "output_type": "stream",
     "text": [
      "Enter username, or blank for the global user (localhost:7682): \n",
      "Enter LabRAD password (localhost:7682): ········\n"
     ]
    }
   ],
   "source": [
    "import labrad\n",
    "scope = labrad.connection().dsox3034a\n",
    "scope.connect((0x0957, 0x17a6, 'MY54100486')) #include S/N if more than one device\n",
    "scope.setAcquireType('hres')\n",
    "scope.setWaveformPoints(100)"
   ]
  },
  {
   "cell_type": "code",
   "execution_count": 8,
   "metadata": {
    "collapsed": false,
    "deletable": true,
    "editable": true
   },
   "outputs": [],
   "source": [
    "cxn = labrad.connect()\n",
    "pulser = cxn.pulser"
   ]
  },
  {
   "cell_type": "code",
   "execution_count": 47,
   "metadata": {
    "collapsed": true,
    "deletable": true,
    "editable": true
   },
   "outputs": [],
   "source": [
    "def pON(n):\n",
    "    return pulser.output('DDS_' + str(n), True)\n",
    "\n",
    "def pOFF(n):\n",
    "    return pulser.output('DDS_' + str(n), False)"
   ]
  },
  {
   "cell_type": "code",
   "execution_count": 5,
   "metadata": {
    "collapsed": false,
    "deletable": true,
    "editable": true
   },
   "outputs": [
    {
     "data": {
      "text/plain": [
       "Value(50.0, 'MHz')"
      ]
     },
     "execution_count": 5,
     "metadata": {},
     "output_type": "execute_result"
    }
   ],
   "source": [
    "pulser.amplitude('DDS_0', WithUnit(10, 'dBm'))\n",
    "pulser.frequency('DDS_0', WithUnit(50, 'MHz'))"
   ]
  },
  {
   "cell_type": "code",
   "execution_count": 122,
   "metadata": {
    "collapsed": false,
    "deletable": true,
    "editable": true
   },
   "outputs": [],
   "source": [
    "#delays determined by characterizing equipment\n",
    "global_delay = 0.375\n",
    "abs_phase = 0   \n",
    "f_delay = 0.2\n",
    "p_delay = 0.2      #0.218 + 0.14\n",
    "a_delay = 0.2\n",
    "total_delay = f_delay + p_delay + a_delay\n",
    "f_delay_u = WithUnit(f_delay, 'us')\n",
    "p_delay_u = WithUnit(p_delay, 'us')\n",
    "a_delay_u = WithUnit(a_delay, 'us')\n",
    "off_amp = WithUnit(-63, 'dBm')\n",
    "\n",
    "def split(DDS_sequence): \n",
    "    off_amp = WithUnit(-63, 'dB')\n",
    "    new_sequence = []\n",
    "    \n",
    "    for dds in DDS_sequence:\n",
    "        start = dds[1][dds[1].units] #us\n",
    "        duration = dds[2][dds[2].units] #us\n",
    "        p_start_u = WithUnit(start - f_delay - p_delay - a_delay, 'us')\n",
    "        f_start_u = WithUnit(start - f_delay - a_delay, 'us')\n",
    "        a_start_u = WithUnit(start - a_delay, 'us')\n",
    "        dds_phase = [(dds[0], p_start_u, p_delay_u, dds[3], WithUnit(-63, 'dBm'), dds[5], dds[6], dds[7])]\n",
    "        dds_freq = [(dds[0], f_start_u, f_delay_u, dds[3], WithUnit(-63, 'dBm'), dds[5], dds[6], dds[7])]\n",
    "        dds_amp = [(dds[0], a_start_u, WithUnit(a_delay + duration, 'us'), dds[3], dds[4], dds[5], dds[6], dds[7])]\n",
    "        #dds_off = [(dds[0], a_start_u, WithUnit(duration, 'us'), dds[3], WithUnit(-63, 'dBm'), dds[5], dds[6], dds[7])]\n",
    "        new_sequence += dds_phase\n",
    "        new_sequence += dds_freq\n",
    "        new_sequence += dds_amp\n",
    "    print new_sequence\n",
    "    return new_sequence\n",
    "\n",
    "def check(DDS_sequence): \n",
    "    for n in range(0, len(DDS_sequence)-1):\n",
    "        curr_end = DDS_sequence[n][1][DDS_sequence[n][1].units] + DDS_sequence[n][2][DDS_sequence[n][2].units]\n",
    "        next_start = DDS_sequence[n+1][1][DDS_sequence[n+1][1].units]\n",
    "        if (next_start - curr_end <= total_delay): \n",
    "            raise ValueException(\"Time between pulse \", n, \" and pulse \", n+1, \" is too short by \", abs(next_start - curr_end), \".\")      \n",
    "\n",
    "def phase_coherent1(DDS_sequence): \n",
    "    raw_pulses = [[]]\n",
    "    new_pulses = [[]]\n",
    "    for n in range(len(DDS_sequence)):\n",
    "        dds = DDS_sequence[n]\n",
    "        frequency = dds[3][dds[3].units]\n",
    "        start = dds[1][dds[1].units]\n",
    "        duration = dds[2][dds[2].units]\n",
    "        end = start + duration\n",
    "        pulse = []\n",
    "        pulse.append(frequency)\n",
    "        pulse.append(start)\n",
    "        pulse.append(duration) \n",
    "        pulse.append(end)\n",
    "        pulse.append(0) #phase\n",
    "        pulse.append(0) \n",
    "        raw_pulses.append(pulse)\n",
    "    raw_pulses = raw_pulses[1:]\n",
    "    new_pulses[0] = raw_pulses[0]\n",
    "    for m in range(1, len(raw_pulses)): \n",
    "        curr = raw_pulses[m]\n",
    "        last = raw_pulses[m-1]\n",
    "        gap = curr[1] - last[3]\n",
    "        if gap != 0: \n",
    "            zero_pulse = [last[0], last[3], gap, curr[1], 0,  1]\n",
    "            new_pulses.append(zero_pulse)\n",
    "        new_pulses.append(curr)\n",
    "    for p in raw_pulses: \n",
    "        print p\n",
    "    return new_pulses\n",
    "\n",
    "def phase_coherent2(pulses): \n",
    "    abs_phase = 0\n",
    "    ftp = {}\n",
    "    r_phase = 0\n",
    "    for n in range(len(pulses)):\n",
    "        freq = pulses[n][0]\n",
    "        start = pulses[n][1]\n",
    "        duration = pulses[n][2]\n",
    "        end = pulses[n][3]\n",
    "        phase = pulses[n][4]\n",
    "        is_zero = pulses[n][5]\n",
    "        if freq not in ftp:\n",
    "            print \"NEW FREQ\"\n",
    "            abs_phase = compute_phase(abs_phase, duration, freq)\n",
    "            ftp[freq] = abs_phase\n",
    "            pulses[n][4] = 0\n",
    "        else: \n",
    "            print \"SAME FREQ\"\n",
    "            if is_zero: \n",
    "                print \"ZERO\"\n",
    "                abs_phase = compute_phase(abs_phase, duration, freq)\n",
    "            else: \n",
    "                print \"NONZERO\"\n",
    "                last_phase = ftp[freq]\n",
    "                r_phase = rel_phase(abs_phase, last_phase)\n",
    "                abs_phase = (abs_phase + r_phase)%360\n",
    "                ftp[freq] = abs_phase\n",
    "                pulses[n][4] = r_phase\n",
    "                abs_phase = compute_phase(abs_phase, duration, freq)\n",
    "    for p in pulses: \n",
    "        print p\n",
    "    return pulses\n",
    "\n",
    "def phase_coherent3(pulses, DDS_sequence): \n",
    "    new_sequence= []\n",
    "    n = 0\n",
    "    for pulse in pulses: \n",
    "        if pulse[5]: \n",
    "            continue\n",
    "        else: \n",
    "            new_dds = [(DDS_sequence[n][0], DDS_sequence[n][1], DDS_sequence[n][2], DDS_sequence[n][3], DDS_sequence[n][4], WithUnit(pulse[4], 'deg'), DDS_sequence[n][6], DDS_sequence[n][7])]\n",
    "            new_sequence.append(new_dds)\n",
    "            n+=1\n",
    "    return new_sequence\n",
    "\n",
    "def phase_coherent(DDS_sequence): \n",
    "    pulse_table = phase_coherent1(DDS_sequence)\n",
    "    phase_updated_pulse_table = phase_coherent2(pulse_table)\n",
    "    return phase_coherent3(phase_updated_pulse_table, DDS_sequence)\n",
    "\n",
    "def rel_phase(p1, p2): \n",
    "    diff = p1-p2\n",
    "    if diff < 0: \n",
    "        return (diff+360)%360\n",
    "    else: \n",
    "        return diff%360\n",
    "\n",
    "def compute_phase(initial_phase, dt, frequency): \n",
    "    #print \"COMPUTE PHASE\"\n",
    "    phase = (dt*frequency*360)%360\n",
    "    #print initial_phase, dt, frequency, phase\n",
    "    return initial_phase + phase\n",
    "                            \n",
    "def process_sequence(dds_sequence): \n",
    "    return phase_coherent(split(dds_sequence))\n"
   ]
  },
  {
   "cell_type": "code",
   "execution_count": 123,
   "metadata": {
    "collapsed": false,
    "deletable": true,
    "editable": true
   },
   "outputs": [
    {
     "data": {
      "text/plain": [
       "0"
      ]
     },
     "execution_count": 123,
     "metadata": {},
     "output_type": "execute_result"
    }
   ],
   "source": [
    "compute_phase(0, 2, 1)"
   ]
  },
  {
   "cell_type": "code",
   "execution_count": 124,
   "metadata": {
    "collapsed": false,
    "deletable": true,
    "editable": true
   },
   "outputs": [],
   "source": [
    "amp = WithUnit(8, 'dBm')\n",
    "amp1 = WithUnit(15, 'dBm')\n",
    "phase = WithUnit(0,'deg')\n",
    "flip_phase = WithUnit(180,'deg')\n",
    "amp_ramp_rate = WithUnit(0,'dB')\n",
    "freq_ramp_rate = WithUnit(0,'MHz')\n",
    "\n",
    "#min gap is 2 us\n",
    "\n",
    "DDS_1 = \\\n",
    "[('DDS_1', WithUnit(10, 'us'), WithUnit(10.00,  'us'), WithUnit(100.0,   'MHz'), amp, phase, freq_ramp_rate, amp_ramp_rate),\n",
    " ('DDS_1', WithUnit(40, 'us'), WithUnit(10.00,  'us'), WithUnit(50.0,   'MHz'), amp, phase, freq_ramp_rate, amp_ramp_rate),\n",
    " ('DDS_1', WithUnit(70,'us'), WithUnit(10.00,  'us'), WithUnit(100.0,   'MHz'), amp, phase, freq_ramp_rate, amp_ramp_rate),\n",
    "]\n",
    "\n",
    "DDS_1_ttl = [(10,10), (40,10), (70,10)]"
   ]
  },
  {
   "cell_type": "code",
   "execution_count": 126,
   "metadata": {
    "collapsed": false,
    "deletable": true,
    "editable": true,
    "scrolled": false
   },
   "outputs": [
    {
     "name": "stdout",
     "output_type": "stream",
     "text": [
      "Starting sequence...\n",
      "[('DDS_2', Value(9.400000000000002, 'us'), Value(0.2, 'us'), Value(1.0, 'MHz'), Value(-63.0, 'dBm'), Value(0.0, 'deg'), Value(0.0, 'MHz'), Value(0.0, 'dB')), ('DDS_2', Value(9.600000000000001, 'us'), Value(0.2, 'us'), Value(1.0, 'MHz'), Value(-63.0, 'dBm'), Value(0.0, 'deg'), Value(0.0, 'MHz'), Value(0.0, 'dB')), ('DDS_2', Value(9.8, 'us'), Value(10.2, 'us'), Value(1.0, 'MHz'), Value(15.0, 'dBm'), Value(0.0, 'deg'), Value(0.0, 'MHz'), Value(0.0, 'dB')), ('DDS_2', Value(39.39999999999999, 'us'), Value(0.2, 'us'), Value(2.0, 'MHz'), Value(-63.0, 'dBm'), Value(0.0, 'deg'), Value(0.0, 'MHz'), Value(0.0, 'dB')), ('DDS_2', Value(39.599999999999994, 'us'), Value(0.2, 'us'), Value(2.0, 'MHz'), Value(-63.0, 'dBm'), Value(0.0, 'deg'), Value(0.0, 'MHz'), Value(0.0, 'dB')), ('DDS_2', Value(39.8, 'us'), Value(10.2, 'us'), Value(2.0, 'MHz'), Value(15.0, 'dBm'), Value(0.0, 'deg'), Value(0.0, 'MHz'), Value(0.0, 'dB')), ('DDS_2', Value(69.39999999999999, 'us'), Value(0.2, 'us'), Value(1.0, 'MHz'), Value(-63.0, 'dBm'), Value(0.0, 'deg'), Value(0.0, 'MHz'), Value(0.0, 'dB')), ('DDS_2', Value(69.6, 'us'), Value(0.2, 'us'), Value(1.0, 'MHz'), Value(-63.0, 'dBm'), Value(0.0, 'deg'), Value(0.0, 'MHz'), Value(0.0, 'dB')), ('DDS_2', Value(69.8, 'us'), Value(10.2, 'us'), Value(1.0, 'MHz'), Value(15.0, 'dBm'), Value(0.0, 'deg'), Value(0.0, 'MHz'), Value(0.0, 'dB')), ('DDS_2', Value(99.39999999999999, 'us'), Value(0.2, 'us'), Value(2.0, 'MHz'), Value(-63.0, 'dBm'), Value(0.0, 'deg'), Value(0.0, 'MHz'), Value(0.0, 'dB')), ('DDS_2', Value(99.6, 'us'), Value(0.2, 'us'), Value(2.0, 'MHz'), Value(-63.0, 'dBm'), Value(0.0, 'deg'), Value(0.0, 'MHz'), Value(0.0, 'dB')), ('DDS_2', Value(99.8, 'us'), Value(10.2, 'us'), Value(2.0, 'MHz'), Value(15.0, 'dBm'), Value(0.0, 'deg'), Value(0.0, 'MHz'), Value(0.0, 'dB'))]\n",
      "[1.0, 9.400000000000002, 0.2, 9.600000000000001, 0, 0]\n",
      "[1.0, 9.600000000000001, 0.2, 9.8, 0, 0]\n",
      "[1.0, 9.8, 10.2, 20.0, 0, 0]\n",
      "[2.0, 39.39999999999999, 0.2, 39.599999999999994, 0, 0]\n",
      "[2.0, 39.599999999999994, 0.2, 39.8, 0, 0]\n",
      "[2.0, 39.8, 10.2, 50.0, 0, 0]\n",
      "[1.0, 69.39999999999999, 0.2, 69.6, 0, 0]\n",
      "[1.0, 69.6, 0.2, 69.8, 0, 0]\n",
      "[1.0, 69.8, 10.2, 80.0, 0, 0]\n",
      "[2.0, 99.39999999999999, 0.2, 99.6, 0, 0]\n",
      "[2.0, 99.6, 0.2, 99.8, 0, 0]\n",
      "[2.0, 99.8, 10.2, 110.0, 0, 0]\n",
      "NEW FREQ\n",
      "SAME FREQ\n",
      "NONZERO\n",
      "SAME FREQ\n",
      "NONZERO\n",
      "SAME FREQ\n",
      "ZERO\n",
      "NEW FREQ\n",
      "SAME FREQ\n",
      "NONZERO\n",
      "SAME FREQ\n",
      "NONZERO\n",
      "SAME FREQ\n",
      "ZERO\n",
      "SAME FREQ\n",
      "NONZERO\n",
      "SAME FREQ\n",
      "NONZERO\n",
      "SAME FREQ\n",
      "NONZERO\n",
      "SAME FREQ\n",
      "ZERO\n",
      "SAME FREQ\n",
      "NONZERO\n",
      "SAME FREQ\n",
      "NONZERO\n",
      "SAME FREQ\n",
      "NONZERO\n",
      "[1.0, 9.400000000000002, 0.2, 9.600000000000001, 0, 0]\n",
      "[1.0, 9.600000000000001, 0.2, 9.8, 0.0, 0]\n",
      "[1.0, 9.8, 10.2, 20.0, 72.0, 0]\n",
      "[1.0, 20.0, 19.39999999999999, 39.39999999999999, 0, 1]\n",
      "[2.0, 39.39999999999999, 0.2, 39.599999999999994, 0, 0]\n",
      "[2.0, 39.599999999999994, 0.2, 39.8, 0.0, 0]\n",
      "[2.0, 39.8, 10.2, 50.0, 144.0, 0]\n",
      "[2.0, 50.0, 19.39999999999999, 69.39999999999999, 0, 1]\n",
      "[1.0, 69.39999999999999, 0.2, 69.6, 359.99999999999045, 0]\n",
      "[1.0, 69.6, 0.2, 69.8, 72.0, 0]\n",
      "[1.0, 69.8, 10.2, 80.0, 72.0, 0]\n",
      "[1.0, 80.0, 19.39999999999999, 99.39999999999999, 0, 1]\n",
      "[2.0, 99.39999999999999, 0.2, 99.6, 215.9999999999809, 0]\n",
      "[2.0, 99.6, 0.2, 99.8, 144.0, 0]\n",
      "[2.0, 99.8, 10.2, 110.0, 144.0, 0]\n"
     ]
    },
    {
     "ename": "FlatteningError",
     "evalue": "(12345) Could not flatten [[('DDS_2', Value(9.400000000000002, 'us'), Value(0.2, 'us'), Value(1.0, 'MHz'), Value(-63.0, 'dBm'), Value(0.0, 'deg'), Value(0.0, 'MHz'), Value(0.0, 'dB'))], [('DDS_2', Value(9.600000000000001, 'us'), Value(0.2, 'us'), Value(1.0, 'MHz'), Value(-63.0, 'dBm'), Value(0.0, 'deg'), Value(0.0, 'MHz'), Value(0.0, 'dB'))], [('DDS_2', Value(9.8, 'us'), Value(10.2, 'us'), Value(1.0, 'MHz'), Value(15.0, 'dBm'), Value(72.0, 'deg'), Value(0.0, 'MHz'), Value(0.0, 'dB'))], [('DDS_2', Value(39.39999999999999, 'us'), Value(0.2, 'us'), Value(2.0, 'MHz'), Value(-63.0, 'dBm'), Value(0.0, 'deg'), Value(0.0, 'MHz'), Value(0.0, 'dB'))], [('DDS_2', Value(39.599999999999994, 'us'), Value(0.2, 'us'), Value(2.0, 'MHz'), Value(-63.0, 'dBm'), Value(0.0, 'deg'), Value(0.0, 'MHz'), Value(0.0, 'dB'))], [('DDS_2', Value(39.8, 'us'), Value(10.2, 'us'), Value(2.0, 'MHz'), Value(15.0, 'dBm'), Value(144.0, 'deg'), Value(0.0, 'MHz'), Value(0.0, 'dB'))], [('DDS_2', Value(69.39999999999999, 'us'), Value(0.2, 'us'), Value(1.0, 'MHz'), Value(-63.0, 'dBm'), Value(359.99999999999045, 'deg'), Value(0.0, 'MHz'), Value(0.0, 'dB'))], [('DDS_2', Value(69.6, 'us'), Value(0.2, 'us'), Value(1.0, 'MHz'), Value(-63.0, 'dBm'), Value(72.0, 'deg'), Value(0.0, 'MHz'), Value(0.0, 'dB'))], [('DDS_2', Value(69.8, 'us'), Value(10.2, 'us'), Value(1.0, 'MHz'), Value(15.0, 'dBm'), Value(72.0, 'deg'), Value(0.0, 'MHz'), Value(0.0, 'dB'))], [('DDS_2', Value(99.39999999999999, 'us'), Value(0.2, 'us'), Value(2.0, 'MHz'), Value(-63.0, 'dBm'), Value(215.9999999999809, 'deg'), Value(0.0, 'MHz'), Value(0.0, 'dB'))], [('DDS_2', Value(99.6, 'us'), Value(0.2, 'us'), Value(2.0, 'MHz'), Value(-63.0, 'dBm'), Value(144.0, 'deg'), Value(0.0, 'MHz'), Value(0.0, 'dB'))], [('DDS_2', Value(99.8, 'us'), Value(10.2, 'us'), Value(2.0, 'MHz'), Value(15.0, 'dBm'), Value(144.0, 'deg'), Value(0.0, 'MHz'), Value(0.0, 'dB'))]] to ['*(sv[s]v[s]v[MHz]v[dBm]v[deg]v[MHz]v[dB])']. [payload=None]",
     "output_type": "error",
     "traceback": [
      "\u001b[0;31m---------------------------------------------------------------------------\u001b[0m",
      "\u001b[0;31mFlatteningError\u001b[0m                           Traceback (most recent call last)",
      "\u001b[0;32m<ipython-input-126-802297dea0cb>\u001b[0m in \u001b[0;36m<module>\u001b[0;34m()\u001b[0m\n\u001b[1;32m     24\u001b[0m     \u001b[0mpulser\u001b[0m\u001b[0;34m.\u001b[0m\u001b[0madd_ttl_pulse\u001b[0m\u001b[0;34m(\u001b[0m\u001b[0;34m'ttl_3'\u001b[0m\u001b[0;34m,\u001b[0m\u001b[0mWithUnit\u001b[0m\u001b[0;34m(\u001b[0m\u001b[0mttl\u001b[0m\u001b[0;34m[\u001b[0m\u001b[0;36m0\u001b[0m\u001b[0;34m]\u001b[0m\u001b[0;34m,\u001b[0m\u001b[0;34m'us'\u001b[0m\u001b[0;34m)\u001b[0m\u001b[0;34m,\u001b[0m\u001b[0mWithUnit\u001b[0m\u001b[0;34m(\u001b[0m\u001b[0mttl\u001b[0m\u001b[0;34m[\u001b[0m\u001b[0;36m1\u001b[0m\u001b[0;34m]\u001b[0m\u001b[0;34m,\u001b[0m\u001b[0;34m'us'\u001b[0m\u001b[0;34m)\u001b[0m\u001b[0;34m)\u001b[0m\u001b[0;34m\u001b[0m\u001b[0m\n\u001b[1;32m     25\u001b[0m \u001b[0;34m\u001b[0m\u001b[0m\n\u001b[0;32m---> 26\u001b[0;31m \u001b[0mpulser\u001b[0m\u001b[0;34m.\u001b[0m\u001b[0madd_dds_pulses\u001b[0m\u001b[0;34m(\u001b[0m\u001b[0mprocess_sequence\u001b[0m\u001b[0;34m(\u001b[0m\u001b[0mt3\u001b[0m\u001b[0;34m)\u001b[0m\u001b[0;34m)\u001b[0m\u001b[0;34m\u001b[0m\u001b[0m\n\u001b[0m\u001b[1;32m     27\u001b[0m \u001b[0mpulser\u001b[0m\u001b[0;34m.\u001b[0m\u001b[0mprogram_sequence\u001b[0m\u001b[0;34m(\u001b[0m\u001b[0;34m)\u001b[0m\u001b[0;34m\u001b[0m\u001b[0m\n\u001b[1;32m     28\u001b[0m \u001b[0mpulser\u001b[0m\u001b[0;34m.\u001b[0m\u001b[0mstart_number\u001b[0m\u001b[0;34m(\u001b[0m\u001b[0;36m1\u001b[0m\u001b[0;34m)\u001b[0m\u001b[0;34m\u001b[0m\u001b[0m\n",
      "\u001b[0;32m/usr/local/lib/python2.7/dist-packages/labrad/client.pyc\u001b[0m in \u001b[0;36m__call__\u001b[0;34m(self, *args, **kw)\u001b[0m\n\u001b[1;32m     64\u001b[0m             warnings.warn(\"Calling settings with wait=False is deprecated. \"\n\u001b[1;32m     65\u001b[0m                           \"Use setting.future(...) instead.\")\n\u001b[0;32m---> 66\u001b[0;31m         \u001b[0mf\u001b[0m \u001b[0;34m=\u001b[0m \u001b[0mself\u001b[0m\u001b[0;34m.\u001b[0m\u001b[0mfuture\u001b[0m\u001b[0;34m(\u001b[0m\u001b[0;34m*\u001b[0m\u001b[0margs\u001b[0m\u001b[0;34m,\u001b[0m \u001b[0;34m**\u001b[0m\u001b[0mkw\u001b[0m\u001b[0;34m)\u001b[0m\u001b[0;34m\u001b[0m\u001b[0m\n\u001b[0m\u001b[1;32m     67\u001b[0m         \u001b[0;32mreturn\u001b[0m \u001b[0mf\u001b[0m\u001b[0;34m.\u001b[0m\u001b[0mresult\u001b[0m\u001b[0;34m(\u001b[0m\u001b[0;34m)\u001b[0m \u001b[0;32mif\u001b[0m \u001b[0mwait\u001b[0m \u001b[0;32melse\u001b[0m \u001b[0mf\u001b[0m\u001b[0;34m\u001b[0m\u001b[0m\n\u001b[1;32m     68\u001b[0m \u001b[0;34m\u001b[0m\u001b[0m\n",
      "\u001b[0;32m/usr/local/lib/python2.7/dist-packages/labrad/client.pyc\u001b[0m in \u001b[0;36mfuture\u001b[0;34m(self, *args, **kw)\u001b[0m\n\u001b[1;32m     74\u001b[0m         \u001b[0;32melif\u001b[0m \u001b[0mlen\u001b[0m\u001b[0;34m(\u001b[0m\u001b[0margs\u001b[0m\u001b[0;34m)\u001b[0m \u001b[0;34m==\u001b[0m \u001b[0;36m1\u001b[0m\u001b[0;34m:\u001b[0m\u001b[0;34m\u001b[0m\u001b[0m\n\u001b[1;32m     75\u001b[0m             \u001b[0margs\u001b[0m \u001b[0;34m=\u001b[0m \u001b[0margs\u001b[0m\u001b[0;34m[\u001b[0m\u001b[0;36m0\u001b[0m\u001b[0;34m]\u001b[0m\u001b[0;34m\u001b[0m\u001b[0m\n\u001b[0;32m---> 76\u001b[0;31m         \u001b[0mflat\u001b[0m \u001b[0;34m=\u001b[0m \u001b[0mT\u001b[0m\u001b[0;34m.\u001b[0m\u001b[0mflatten\u001b[0m\u001b[0;34m(\u001b[0m\u001b[0margs\u001b[0m\u001b[0;34m,\u001b[0m \u001b[0mtag\u001b[0m\u001b[0;34m)\u001b[0m\u001b[0;34m\u001b[0m\u001b[0m\n\u001b[0m\u001b[1;32m     77\u001b[0m         \u001b[0mf\u001b[0m \u001b[0;34m=\u001b[0m \u001b[0mself\u001b[0m\u001b[0;34m.\u001b[0m\u001b[0m_server\u001b[0m\u001b[0;34m.\u001b[0m\u001b[0m_send\u001b[0m\u001b[0;34m(\u001b[0m\u001b[0;34m[\u001b[0m\u001b[0;34m(\u001b[0m\u001b[0mself\u001b[0m\u001b[0;34m.\u001b[0m\u001b[0mID\u001b[0m\u001b[0;34m,\u001b[0m \u001b[0mflat\u001b[0m\u001b[0;34m)\u001b[0m\u001b[0;34m]\u001b[0m\u001b[0;34m,\u001b[0m \u001b[0;34m**\u001b[0m\u001b[0mkw\u001b[0m\u001b[0;34m)\u001b[0m\u001b[0;34m\u001b[0m\u001b[0m\n\u001b[1;32m     78\u001b[0m         \u001b[0;32mif\u001b[0m \u001b[0mwrap\u001b[0m\u001b[0;34m:\u001b[0m\u001b[0;34m\u001b[0m\u001b[0m\n",
      "\u001b[0;32m/usr/local/lib/python2.7/dist-packages/labrad/types.pyc\u001b[0m in \u001b[0;36mflatten\u001b[0;34m(obj, types, endianness)\u001b[0m\n\u001b[1;32m    392\u001b[0m             \u001b[0;32mbreak\u001b[0m\u001b[0;34m\u001b[0m\u001b[0m\n\u001b[1;32m    393\u001b[0m \u001b[0;34m\u001b[0m\u001b[0m\n\u001b[0;32m--> 394\u001b[0;31m     \u001b[0;32mraise\u001b[0m \u001b[0mFlatteningError\u001b[0m\u001b[0;34m(\u001b[0m\u001b[0mobj\u001b[0m\u001b[0;34m,\u001b[0m \u001b[0mtypes\u001b[0m\u001b[0;34m)\u001b[0m\u001b[0;34m\u001b[0m\u001b[0m\n\u001b[0m\u001b[1;32m    395\u001b[0m \u001b[0;34m\u001b[0m\u001b[0m\n\u001b[1;32m    396\u001b[0m \u001b[0;34m\u001b[0m\u001b[0m\n",
      "\u001b[0;31mFlatteningError\u001b[0m: (12345) Could not flatten [[('DDS_2', Value(9.400000000000002, 'us'), Value(0.2, 'us'), Value(1.0, 'MHz'), Value(-63.0, 'dBm'), Value(0.0, 'deg'), Value(0.0, 'MHz'), Value(0.0, 'dB'))], [('DDS_2', Value(9.600000000000001, 'us'), Value(0.2, 'us'), Value(1.0, 'MHz'), Value(-63.0, 'dBm'), Value(0.0, 'deg'), Value(0.0, 'MHz'), Value(0.0, 'dB'))], [('DDS_2', Value(9.8, 'us'), Value(10.2, 'us'), Value(1.0, 'MHz'), Value(15.0, 'dBm'), Value(72.0, 'deg'), Value(0.0, 'MHz'), Value(0.0, 'dB'))], [('DDS_2', Value(39.39999999999999, 'us'), Value(0.2, 'us'), Value(2.0, 'MHz'), Value(-63.0, 'dBm'), Value(0.0, 'deg'), Value(0.0, 'MHz'), Value(0.0, 'dB'))], [('DDS_2', Value(39.599999999999994, 'us'), Value(0.2, 'us'), Value(2.0, 'MHz'), Value(-63.0, 'dBm'), Value(0.0, 'deg'), Value(0.0, 'MHz'), Value(0.0, 'dB'))], [('DDS_2', Value(39.8, 'us'), Value(10.2, 'us'), Value(2.0, 'MHz'), Value(15.0, 'dBm'), Value(144.0, 'deg'), Value(0.0, 'MHz'), Value(0.0, 'dB'))], [('DDS_2', Value(69.39999999999999, 'us'), Value(0.2, 'us'), Value(1.0, 'MHz'), Value(-63.0, 'dBm'), Value(359.99999999999045, 'deg'), Value(0.0, 'MHz'), Value(0.0, 'dB'))], [('DDS_2', Value(69.6, 'us'), Value(0.2, 'us'), Value(1.0, 'MHz'), Value(-63.0, 'dBm'), Value(72.0, 'deg'), Value(0.0, 'MHz'), Value(0.0, 'dB'))], [('DDS_2', Value(69.8, 'us'), Value(10.2, 'us'), Value(1.0, 'MHz'), Value(15.0, 'dBm'), Value(72.0, 'deg'), Value(0.0, 'MHz'), Value(0.0, 'dB'))], [('DDS_2', Value(99.39999999999999, 'us'), Value(0.2, 'us'), Value(2.0, 'MHz'), Value(-63.0, 'dBm'), Value(215.9999999999809, 'deg'), Value(0.0, 'MHz'), Value(0.0, 'dB'))], [('DDS_2', Value(99.6, 'us'), Value(0.2, 'us'), Value(2.0, 'MHz'), Value(-63.0, 'dBm'), Value(144.0, 'deg'), Value(0.0, 'MHz'), Value(0.0, 'dB'))], [('DDS_2', Value(99.8, 'us'), Value(10.2, 'us'), Value(2.0, 'MHz'), Value(15.0, 'dBm'), Value(144.0, 'deg'), Value(0.0, 'MHz'), Value(0.0, 'dB'))]] to ['*(sv[s]v[s]v[MHz]v[dBm]v[deg]v[MHz]v[dB])']. [payload=None]"
     ]
    }
   ],
   "source": [
    "### DEFINE DDS SEQUENCE ###\n",
    "t3 = [\n",
    "#('DDS_1', WithUnit(5,'us'), WithUnit(110.00,  'us'), WithUnit(80.0,   'MHz'), amp, phase, freq_ramp_rate, amp_ramp_rate),\n",
    "('DDS_2', WithUnit(10,'us'), WithUnit(10.00,  'us'), WithUnit(1.0,   'MHz'), amp1, phase, freq_ramp_rate, amp_ramp_rate),\n",
    "('DDS_2', WithUnit(40,'us'), WithUnit(10.00,  'us'), WithUnit(2.0,   'MHz'), amp1, phase, freq_ramp_rate, amp_ramp_rate),\n",
    "('DDS_2', WithUnit(70,'us'), WithUnit(10.00,  'us'), WithUnit(1.0,   'MHz'), amp1, phase, freq_ramp_rate, amp_ramp_rate),\n",
    "('DDS_2', WithUnit(100,'us'), WithUnit(10.00,  'us'), WithUnit(2.0,   'MHz'), amp1, phase, freq_ramp_rate, amp_ramp_rate),\n",
    "]\n",
    "\n",
    "### DEFINE TTL SEQUENCE ###\n",
    "t3_switch_ttl = [(10,10), (40,10), (70,10), (100, 10)]\n",
    "\n",
    "### RUN PROCEDURE ###\n",
    "print \"Starting sequence...\"\n",
    "\n",
    "scope.single()\n",
    "time.sleep(1)\n",
    "pulser.amplitude('DDS_1', amp1)\n",
    "pulser.frequency('DDS_1', WithUnit(80.0,   'MHz'))\n",
    "pulser.amplitude('DDS_2',WithUnit(-63,'dBm'))\n",
    "pulser.new_sequence()\n",
    "        \n",
    "for ttl in t3_switch_ttl: \n",
    "    pulser.add_ttl_pulse('ttl_3',WithUnit(ttl[0],'us'),WithUnit(ttl[1],'us'))\n",
    "        \n",
    "pulser.add_dds_pulses(process_sequence(t3))\n",
    "pulser.program_sequence()\n",
    "pulser.start_number(1)\n",
    "pulser.wait_sequence_done()\n",
    "pulser.stop_sequence()\n",
    "pulser.amplitude('DDS_1',WithUnit(-63,'dBm'))\n",
    "pulser.amplitude('DDS_2',WithUnit(-63,'dBm'))\n",
    "time.sleep(1)\n",
    "print \"Sequence done.\""
   ]
  },
  {
   "cell_type": "code",
   "execution_count": null,
   "metadata": {
    "collapsed": true,
    "deletable": true,
    "editable": true
   },
   "outputs": [],
   "source": [
    "scope.single()"
   ]
  },
  {
   "cell_type": "code",
   "execution_count": 121,
   "metadata": {
    "collapsed": false,
    "deletable": true,
    "editable": true
   },
   "outputs": [
    {
     "name": "stdout",
     "output_type": "stream",
     "text": [
      "Starting sequence...\n",
      "Sequence done.\n"
     ]
    }
   ],
   "source": [
    "### RUN PROCEDURE ###\n",
    "print \"Starting sequence...\"\n",
    "\n",
    "scope.single()\n",
    "time.sleep(1)\n",
    "pulser.amplitude('DDS_1',WithUnit(-63,'dBm'))\n",
    "pulser.amplitude('DDS_2',WithUnit(-63,'dBm'))\n",
    "pulser.new_sequence()\n",
    "        \n",
    "for ttl in t3_switch_ttl: \n",
    "    pulser.add_ttl_pulse('ttl_3',WithUnit(ttl[0],'us'),WithUnit(ttl[1],'us'))\n",
    "        \n",
    "pulser.add_dds_pulses(t3)\n",
    "pulser.program_sequence()\n",
    "pulser.start_number(1)\n",
    "pulser.wait_sequence_done()\n",
    "pulser.stop_sequence()\n",
    "pulser.amplitude('DDS_1',WithUnit(-63,'dBm'))\n",
    "pulser.amplitude('DDS_2',WithUnit(-63,'dBm'))\n",
    "time.sleep(1)\n",
    "print \"Sequence done.\""
   ]
  },
  {
   "cell_type": "code",
   "execution_count": 243,
   "metadata": {
    "collapsed": false,
    "deletable": true,
    "editable": true
   },
   "outputs": [
    {
     "data": {
      "text/plain": [
       "Value(60.0, 'MHz')"
      ]
     },
     "execution_count": 243,
     "metadata": {},
     "output_type": "execute_result"
    }
   ],
   "source": [
    "pulser.amplitude('DDS_1',WithUnit(5,'dBm'))\n",
    "pulser.amplitude('DDS_2',WithUnit(10,'dBm'))\n",
    "pulser.frequency('DDS_1',WithUnit(60,'MHz'))\n",
    "pulser.frequency('DDS_2',WithUnit(60,'MHz'))"
   ]
  },
  {
   "cell_type": "code",
   "execution_count": 318,
   "metadata": {
    "collapsed": false,
    "deletable": true,
    "editable": true
   },
   "outputs": [
    {
     "data": {
      "text/plain": [
       "LabRAD Server: Pulser (ID=4)\n",
       "\n",
       "\n",
       "\n",
       "\n",
       "Settings:\n",
       "    add_dds_pulses\n",
       "    add_ttl_pulse\n",
       "    add_ttl_pulses\n",
       "    amplitude\n",
       "    clear_dds_lock\n",
       "    complete_infinite_iteration\n",
       "    debug\n",
       "    echo\n",
       "    extend_sequence_length\n",
       "    frequency\n",
       "    get_channels\n",
       "    get_collection_mode\n",
       "    get_collection_time\n",
       "    get_dds_amplitude_range\n",
       "    get_dds_channels\n",
       "    get_dds_frequency_range\n",
       "    get_line_trigger_limits\n",
       "    get_pmt_counts\n",
       "    get_readout_counts\n",
       "    get_secondary_pmt_counts\n",
       "    get_state\n",
       "    get_timetag_resolution\n",
       "    get_timetags\n",
       "    human_readable_dds\n",
       "    human_readable_ttl\n",
       "    internal_advance_dds\n",
       "    internal_reset_dds\n",
       "    line_trigger_duration\n",
       "    line_trigger_state\n",
       "    new_sequence\n",
       "    output\n",
       "    program_sequence\n",
       "    reinitialize_dds\n",
       "    repeatitions_completed\n",
       "    reset_fifo_normal\n",
       "    reset_readout_counts\n",
       "    reset_timetags\n",
       "    set_collection_time\n",
       "    set_mode\n",
       "    signal__log\n",
       "    signal__new_dds_parameter\n",
       "    signal__new_line_trigger_parameter\n",
       "    signal__switch_toggled\n",
       "    start_infinite\n",
       "    start_number\n",
       "    start_single\n",
       "    stop_sequence\n",
       "    switch_auto\n",
       "    switch_manual\n",
       "    wait_sequence_done"
      ]
     },
     "execution_count": 318,
     "metadata": {},
     "output_type": "execute_result"
    }
   ],
   "source": [
    "pulser"
   ]
  },
  {
   "cell_type": "code",
   "execution_count": null,
   "metadata": {
    "collapsed": true,
    "deletable": true,
    "editable": true
   },
   "outputs": [],
   "source": []
  }
 ],
 "metadata": {
  "kernelspec": {
   "display_name": "Python 2",
   "language": "python",
   "name": "python2"
  },
  "language_info": {
   "codemirror_mode": {
    "name": "ipython",
    "version": 2
   },
   "file_extension": ".py",
   "mimetype": "text/x-python",
   "name": "python",
   "nbconvert_exporter": "python",
   "pygments_lexer": "ipython2",
   "version": "2.7.3"
  }
 },
 "nbformat": 4,
 "nbformat_minor": 2
}
