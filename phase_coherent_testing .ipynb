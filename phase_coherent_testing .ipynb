{
 "cells": [
  {
   "cell_type": "code",
   "execution_count": 55,
   "metadata": {
    "collapsed": true,
    "deletable": true,
    "editable": true
   },
   "outputs": [],
   "source": [
    "import labrad\n",
    "from labrad.units import WithUnit\n",
    "import time\n",
    "from math import log\n",
    "import matplotlib.pyplot as plt"
   ]
  },
  {
   "cell_type": "code",
   "execution_count": 56,
   "metadata": {
    "collapsed": false,
    "deletable": true,
    "editable": true
   },
   "outputs": [],
   "source": [
    "import labrad\n",
    "scope = labrad.connection().dsox3034a\n",
    "scope.connect((0x0957, 0x17a6, 'MY54100486')) #include S/N if more than one device\n",
    "scope.setAcquireType('hres')\n",
    "scope.setWaveformPoints(100)"
   ]
  },
  {
   "cell_type": "code",
   "execution_count": 57,
   "metadata": {
    "collapsed": false,
    "deletable": true,
    "editable": true
   },
   "outputs": [],
   "source": [
    "cxn = labrad.connect()\n",
    "pulser = cxn.pulser"
   ]
  },
  {
   "cell_type": "code",
   "execution_count": 47,
   "metadata": {
    "collapsed": true,
    "deletable": true,
    "editable": true
   },
   "outputs": [],
   "source": [
    "def pON(n):\n",
    "    return pulser.output('DDS_' + str(n), True)\n",
    "\n",
    "def pOFF(n):\n",
    "    return pulser.output('DDS_' + str(n), False)"
   ]
  },
  {
   "cell_type": "code",
   "execution_count": 5,
   "metadata": {
    "collapsed": false,
    "deletable": true,
    "editable": true
   },
   "outputs": [
    {
     "data": {
      "text/plain": [
       "Value(50.0, 'MHz')"
      ]
     },
     "execution_count": 5,
     "metadata": {},
     "output_type": "execute_result"
    }
   ],
   "source": [
    "pulser.amplitude('DDS_0', WithUnit(10, 'dBm'))\n",
    "pulser.frequency('DDS_0', WithUnit(50, 'MHz'))"
   ]
  },
  {
   "cell_type": "code",
   "execution_count": 483,
   "metadata": {
    "collapsed": false,
    "deletable": true,
    "editable": true
   },
   "outputs": [],
   "source": [
    "#delays determined by characterizing equipment\n",
    "global_delay = 0.375\n",
    "abs_phase = 0   \n",
    "f_delay = 0.2\n",
    "p_delay = 0.2      #0.218 + 0.14\n",
    "a_delay = 0.2\n",
    "total_delay = f_delay + p_delay + a_delay\n",
    "f_delay_u = WithUnit(f_delay, 'us')\n",
    "p_delay_u = WithUnit(p_delay, 'us')\n",
    "a_delay_u = WithUnit(a_delay, 'us')\n",
    "off_amp = WithUnit(-63, 'dBm')\n",
    "\n",
    "def split(DDS_sequence): \n",
    "    off_amp = WithUnit(-63, 'dB')\n",
    "    new_sequence = []\n",
    "    \n",
    "    for dds in DDS_sequence:\n",
    "        start = dds[1][dds[1].units] #us\n",
    "        duration = dds[2][dds[2].units] #us\n",
    "        p_start_u = WithUnit(start - f_delay - p_delay - a_delay, 'us')\n",
    "        f_start_u = WithUnit(start - f_delay - a_delay, 'us')\n",
    "        a_start_u = WithUnit(start - a_delay, 'us')\n",
    "        dds_phase = [(dds[0], p_start_u, p_delay_u, dds[3], WithUnit(-63, 'dBm'), dds[5], dds[6], dds[7])]\n",
    "        dds_freq = [(dds[0], f_start_u, f_delay_u, dds[3], WithUnit(-63, 'dBm'), dds[5], dds[6], dds[7])]\n",
    "        dds_amp = [(dds[0], a_start_u, WithUnit(a_delay + duration, 'us'), dds[3], dds[4], dds[5], dds[6], dds[7])]\n",
    "        #dds_off = [(dds[0], a_start_u, WithUnit(duration, 'us'), dds[3], WithUnit(-63, 'dBm'), dds[5], dds[6], dds[7])]\n",
    "        new_sequence += dds_phase\n",
    "        new_sequence += dds_freq\n",
    "        new_sequence += dds_amp\n",
    "    print new_sequence\n",
    "    return new_sequence\n",
    "\n",
    "def check(DDS_sequence): \n",
    "    for n in range(0, len(DDS_sequence)-1):\n",
    "        curr_end = DDS_sequence[n][1][DDS_sequence[n][1].units] + DDS_sequence[n][2][DDS_sequence[n][2].units]\n",
    "        next_start = DDS_sequence[n+1][1][DDS_sequence[n+1][1].units]\n",
    "        if (next_start - curr_end <= total_delay): \n",
    "            raise ValueException(\"Time between pulse \", n, \" and pulse \", n+1, \" is too short by \", abs(next_start - curr_end), \".\")      \n",
    "\n",
    "def phase_coherent(DDS_sequence): \n",
    "    new_sequence= []\n",
    "    frequencies_times = {}\n",
    "    phases = [] #stores relative phase shifts in sequential order\n",
    "    abs_phase = 0   \n",
    "    last_end = 0\n",
    "    last_freq = 0\n",
    "    for dds in DDS_sequence: \n",
    "        frequency = dds[3][dds[3].units]\n",
    "        start = dds[1][dds[1].units]\n",
    "        duration = dds[2][dds[2].units]\n",
    "        end = start + duration\n",
    "        print frequency, start, duration, end \n",
    "        abs_phase = compute_phase(abs_phase, start-last_end, last_freq)%360\n",
    "        if frequency not in frequencies_times: \n",
    "            print \"last_end: \", last_end\n",
    "            print \"abs_phase 1: \", abs_phase\n",
    "            phases.append(0) #no phase shift needed for first pulse of frequency\n",
    "            abs_phase = compute_phase(abs_phase, duration, frequency)\n",
    "            print \"abs_phase 2: \", abs_phase\n",
    "            frequencies_times[frequency] = (frequency, end, abs_phase)\n",
    "            last_end = end\n",
    "            last_freq = frequency\n",
    "        else:\n",
    "            print \"last_end:\", last_end\n",
    "            dt = start - frequencies_times[frequency][1] #computes time difference between start of pulse and end of last pulse of same frequency\n",
    "            print \"dt: \", dt #why is this 19.4 - because the code doesn't consider the zero a\n",
    "            print \"abs_phase 1: \", abs_phase\n",
    "            #relative_phase = abs_phase - frequencies_times[frequency][2] #calculates relative phase shift from current pulse by finding difference between absolute phase at end of last puls of same frequency and absoluate phase at start of current pulse\n",
    "            last_phase = compute_phase(abs_phase, dt, frequency)\n",
    "            relative_phase = rel_phase(abs_phase, frequencies_times[frequency][2])\n",
    "            print \"relative_phase: \", relative_phase\n",
    "            phases.append(relative_phase)\n",
    "            abs_phase = (relative_phase + compute_phase(abs_phase, duration, frequency))%360\n",
    "            print \"abs_phase 2: \", abs_phase\n",
    "            frequencies_times[frequency] = (frequency, end, abs_phase)\n",
    "            last_end = end\n",
    "            frequencies_times[frequency] = (frequency, last_end, abs_phase)\n",
    "            last_freq = frequency\n",
    "    #modify each entry in input to correct phase     \n",
    "    for n in range(0, len(DDS_sequence)):\n",
    "        new_dds = [(DDS_sequence[n][0], DDS_sequence[n][1], DDS_sequence[n][2], DDS_sequence[n][3], DDS_sequence[n][4], WithUnit(phases[n], 'deg'), DDS_sequence[n][6], DDS_sequence[n][7])]\n",
    "        print phases[n]\n",
    "        new_sequence+=(new_dds)\n",
    "    return new_sequence     \n",
    "\n",
    "\n",
    "def phase_coherent_1(DDS_sequence): \n",
    "    raw_pulses = [][]\n",
    "    new_pulses = [][]\n",
    "    for n in range(len(DDS_sequence)):\n",
    "        dds = DDS_sequence[n]\n",
    "        frequency = dds[3][dds[3].units]\n",
    "        start = dds[1][dds[1].units]\n",
    "        duration = dds[2][dds[2].units]\n",
    "        end = start + duration\n",
    "        raw_pulses[n][0] = frequency\n",
    "        raw_pulses[n][1] = start\n",
    "        raw_pulses[n][2] = duration \n",
    "        raw_pulses[n][3] = end\n",
    "    new_pulses.append(raw_pulses[0])\n",
    "    for m in range(1, len(raw_pulses)): \n",
    "        curr = raw_pulses[m]\n",
    "        last = raw_pulses[m-1]\n",
    "        gap = curr[1] - last[3]\n",
    "        if gap != 0: \n",
    "            zero_pulse = [last[0], last[3], gap, curr[1]]\n",
    "            new_pulses.append[zero_pulse]\n",
    "        new_pulses.append(curr)\n",
    "    \n",
    "    \n",
    "\n",
    "def rel_phase(p1, p2): \n",
    "    print \"p1: \", p1\n",
    "    print \"p2: \", p2\n",
    "    diff = p1-p2\n",
    "    if diff < 0: \n",
    "        return (diff+360)%360\n",
    "    else: \n",
    "        return diff%360\n",
    "\n",
    "def compute_phase(initial_phase, dt, frequency): \n",
    "    #print \"COMPUTE PHASE\"\n",
    "    phase = (dt*frequency*360)%360\n",
    "    #print initial_phase, dt, frequency, phase\n",
    "    return initial_phase + phase\n",
    "                            \n",
    "def process_sequence(dds_sequence): \n",
    "    return phase_coherent(split(dds_sequence))\n"
   ]
  },
  {
   "cell_type": "code",
   "execution_count": 480,
   "metadata": {
    "collapsed": false
   },
   "outputs": [
    {
     "data": {
      "text/plain": [
       "0"
      ]
     },
     "execution_count": 480,
     "metadata": {},
     "output_type": "execute_result"
    }
   ],
   "source": [
    "compute_phase(0, 2, 1)"
   ]
  },
  {
   "cell_type": "code",
   "execution_count": 481,
   "metadata": {
    "collapsed": false,
    "deletable": true,
    "editable": true
   },
   "outputs": [],
   "source": [
    "amp = WithUnit(8, 'dBm')\n",
    "amp1 = WithUnit(15, 'dBm')\n",
    "phase = WithUnit(0,'deg')\n",
    "flip_phase = WithUnit(180,'deg')\n",
    "amp_ramp_rate = WithUnit(0,'dB')\n",
    "freq_ramp_rate = WithUnit(0,'MHz')\n",
    "\n",
    "#min gap is 2 us\n",
    "\n",
    "DDS_1 = \\\n",
    "[('DDS_1', WithUnit(10, 'us'), WithUnit(10.00,  'us'), WithUnit(100.0,   'MHz'), amp, phase, freq_ramp_rate, amp_ramp_rate),\n",
    " ('DDS_1', WithUnit(40, 'us'), WithUnit(10.00,  'us'), WithUnit(50.0,   'MHz'), amp, phase, freq_ramp_rate, amp_ramp_rate),\n",
    " ('DDS_1', WithUnit(70,'us'), WithUnit(10.00,  'us'), WithUnit(100.0,   'MHz'), amp, phase, freq_ramp_rate, amp_ramp_rate),\n",
    "]\n",
    "\n",
    "DDS_1_ttl = [(10,10), (40,10), (70,10)]"
   ]
  },
  {
   "cell_type": "code",
   "execution_count": 485,
   "metadata": {
    "collapsed": false,
    "deletable": true,
    "editable": true,
    "scrolled": false
   },
   "outputs": [
    {
     "name": "stdout",
     "output_type": "stream",
     "text": [
      "Starting sequence...\n",
      "[('DDS_2', Value(9.400000000000002, 'us'), Value(0.2, 'us'), Value(1.0, 'MHz'), Value(-63.0, 'dBm'), Value(0.0, 'deg'), Value(0.0, 'MHz'), Value(0.0, 'dB')), ('DDS_2', Value(9.600000000000001, 'us'), Value(0.2, 'us'), Value(1.0, 'MHz'), Value(-63.0, 'dBm'), Value(0.0, 'deg'), Value(0.0, 'MHz'), Value(0.0, 'dB')), ('DDS_2', Value(9.8, 'us'), Value(10.2, 'us'), Value(1.0, 'MHz'), Value(15.0, 'dBm'), Value(0.0, 'deg'), Value(0.0, 'MHz'), Value(0.0, 'dB')), ('DDS_2', Value(39.39999999999999, 'us'), Value(0.2, 'us'), Value(1.0, 'MHz'), Value(-63.0, 'dBm'), Value(0.0, 'deg'), Value(0.0, 'MHz'), Value(0.0, 'dB')), ('DDS_2', Value(39.599999999999994, 'us'), Value(0.2, 'us'), Value(1.0, 'MHz'), Value(-63.0, 'dBm'), Value(0.0, 'deg'), Value(0.0, 'MHz'), Value(0.0, 'dB')), ('DDS_2', Value(39.8, 'us'), Value(10.2, 'us'), Value(1.0, 'MHz'), Value(15.0, 'dBm'), Value(0.0, 'deg'), Value(0.0, 'MHz'), Value(0.0, 'dB')), ('DDS_2', Value(69.39999999999999, 'us'), Value(0.2, 'us'), Value(1.0, 'MHz'), Value(-63.0, 'dBm'), Value(0.0, 'deg'), Value(0.0, 'MHz'), Value(0.0, 'dB')), ('DDS_2', Value(69.6, 'us'), Value(0.2, 'us'), Value(1.0, 'MHz'), Value(-63.0, 'dBm'), Value(0.0, 'deg'), Value(0.0, 'MHz'), Value(0.0, 'dB')), ('DDS_2', Value(69.8, 'us'), Value(10.2, 'us'), Value(1.0, 'MHz'), Value(15.0, 'dBm'), Value(0.0, 'deg'), Value(0.0, 'MHz'), Value(0.0, 'dB')), ('DDS_2', Value(99.39999999999999, 'us'), Value(0.2, 'us'), Value(1.0, 'MHz'), Value(-63.0, 'dBm'), Value(0.0, 'deg'), Value(0.0, 'MHz'), Value(0.0, 'dB')), ('DDS_2', Value(99.6, 'us'), Value(0.2, 'us'), Value(1.0, 'MHz'), Value(-63.0, 'dBm'), Value(0.0, 'deg'), Value(0.0, 'MHz'), Value(0.0, 'dB')), ('DDS_2', Value(99.8, 'us'), Value(10.2, 'us'), Value(1.0, 'MHz'), Value(15.0, 'dBm'), Value(0.0, 'deg'), Value(0.0, 'MHz'), Value(0.0, 'dB'))]\n",
      "1.0 9.4 0.2 9.6\n",
      "last_end:  0\n",
      "abs_phase 1:  0.0\n",
      "abs_phase 2:  72.0\n",
      "1.0 9.6 0.2 9.8\n",
      "last_end: 9.6\n",
      "dt:  0.0\n",
      "abs_phase 1:  72.0\n",
      "p1:  72.0\n",
      "p2:  72.0\n",
      "relative_phase:  0.0\n",
      "abs_phase 2:  144.0\n",
      "1.0 9.8 10.2 20.0\n",
      "last_end: 9.8\n",
      "dt:  0.0\n",
      "abs_phase 1:  144.0\n",
      "p1:  144.0\n",
      "p2:  144.0\n",
      "relative_phase:  0.0\n",
      "abs_phase 2:  216.0\n",
      "1.0 39.4 0.2 39.6\n",
      "last_end: 20.0\n",
      "dt:  19.4\n",
      "abs_phase 1:  360.0\n",
      "p1:  360.0\n",
      "p2:  216.0\n",
      "relative_phase:  144.0\n",
      "abs_phase 2:  216.0\n",
      "1.0 39.6 0.2 39.8\n",
      "last_end: 39.6\n",
      "dt:  0.0\n",
      "abs_phase 1:  216.0\n",
      "p1:  216.0\n",
      "p2:  216.0\n",
      "relative_phase:  0.0\n",
      "abs_phase 2:  288.0\n",
      "1.0 39.8 10.2 50.0\n",
      "last_end: 39.8\n",
      "dt:  0.0\n",
      "abs_phase 1:  288.0\n",
      "p1:  288.0\n",
      "p2:  288.0\n",
      "relative_phase:  0.0\n",
      "abs_phase 2:  360.0\n",
      "1.0 69.4 0.2 69.6\n",
      "last_end: 50.0\n",
      "dt:  19.4\n",
      "abs_phase 1:  144.0\n",
      "p1:  144.0\n",
      "p2:  360.0\n",
      "relative_phase:  144.0\n",
      "abs_phase 2:  360.0\n",
      "1.0 69.6 0.2 69.8\n",
      "last_end: 69.6\n",
      "dt:  0.0\n",
      "abs_phase 1:  360.0\n",
      "p1:  360.0\n",
      "p2:  360.0\n",
      "relative_phase:  0.0\n",
      "abs_phase 2:  72.0\n",
      "1.0 69.8 10.2 80.0\n",
      "last_end: 69.8\n",
      "dt:  0.0\n",
      "abs_phase 1:  72.0\n",
      "p1:  72.0\n",
      "p2:  72.0\n",
      "relative_phase:  0.0\n",
      "abs_phase 2:  144.0\n",
      "1.0 99.4 0.2 99.6\n",
      "last_end: 80.0\n",
      "dt:  19.4\n",
      "abs_phase 1:  288.0\n",
      "p1:  288.0\n",
      "p2:  144.0\n",
      "relative_phase:  144.0\n",
      "abs_phase 2:  144.0\n",
      "1.0 99.6 0.2 99.8\n",
      "last_end: 99.6\n",
      "dt:  0.0\n",
      "abs_phase 1:  144.0\n",
      "p1:  144.0\n",
      "p2:  144.0\n",
      "relative_phase:  0.0\n",
      "abs_phase 2:  216.0\n",
      "1.0 99.8 10.2 110.0\n",
      "last_end: 99.8\n",
      "dt:  0.0\n",
      "abs_phase 1:  216.0\n",
      "p1:  216.0\n",
      "p2:  216.0\n",
      "relative_phase:  0.0\n",
      "abs_phase 2:  288.0\n",
      "0\n",
      "0.0\n",
      "0.0\n",
      "144.0\n",
      "0.0\n",
      "0.0\n",
      "144.0\n",
      "0.0\n",
      "0.0\n",
      "144.0\n",
      "0.0\n",
      "0.0\n",
      "Sequence done.\n"
     ]
    }
   ],
   "source": [
    "### DEFINE DDS SEQUENCE ###\n",
    "t3 = [\n",
    "#('DDS_1', WithUnit(5,'us'), WithUnit(110.00,  'us'), WithUnit(80.0,   'MHz'), amp, phase, freq_ramp_rate, amp_ramp_rate),\n",
    "('DDS_2', WithUnit(10,'us'), WithUnit(10.00,  'us'), WithUnit(1.0,   'MHz'), amp1, phase, freq_ramp_rate, amp_ramp_rate),\n",
    "('DDS_2', WithUnit(40,'us'), WithUnit(10.00,  'us'), WithUnit(1.0,   'MHz'), amp1, phase, freq_ramp_rate, amp_ramp_rate),\n",
    "('DDS_2', WithUnit(70,'us'), WithUnit(10.00,  'us'), WithUnit(1.0,   'MHz'), amp1, phase, freq_ramp_rate, amp_ramp_rate),\n",
    "('DDS_2', WithUnit(100,'us'), WithUnit(10.00,  'us'), WithUnit(1.0,   'MHz'), amp1, phase, freq_ramp_rate, amp_ramp_rate),\n",
    "]\n",
    "\n",
    "### DEFINE TTL SEQUENCE ###\n",
    "t3_switch_ttl = [(10,10), (40,10), (70,10), (100, 10)]\n",
    "\n",
    "### RUN PROCEDURE ###\n",
    "print \"Starting sequence...\"\n",
    "\n",
    "scope.single()\n",
    "time.sleep(1)\n",
    "pulser.amplitude('DDS_1', amp1)\n",
    "pulser.frequency('DDS_1', WithUnit(80.0,   'MHz'))\n",
    "pulser.amplitude('DDS_2',WithUnit(-63,'dBm'))\n",
    "pulser.new_sequence()\n",
    "        \n",
    "for ttl in t3_switch_ttl: \n",
    "    pulser.add_ttl_pulse('ttl_3',WithUnit(ttl[0],'us'),WithUnit(ttl[1],'us'))\n",
    "        \n",
    "pulser.add_dds_pulses(process_sequence(t3))\n",
    "pulser.program_sequence()\n",
    "pulser.start_number(1)\n",
    "pulser.wait_sequence_done()\n",
    "pulser.stop_sequence()\n",
    "pulser.amplitude('DDS_1',WithUnit(-63,'dBm'))\n",
    "pulser.amplitude('DDS_2',WithUnit(-63,'dBm'))\n",
    "time.sleep(1)\n",
    "print \"Sequence done.\""
   ]
  },
  {
   "cell_type": "code",
   "execution_count": 255,
   "metadata": {
    "collapsed": true,
    "deletable": true,
    "editable": true
   },
   "outputs": [],
   "source": [
    "scope.single()"
   ]
  },
  {
   "cell_type": "code",
   "execution_count": 248,
   "metadata": {
    "collapsed": false,
    "deletable": true,
    "editable": true
   },
   "outputs": [
    {
     "name": "stdout",
     "output_type": "stream",
     "text": [
      "Starting sequence...\n",
      "Sequence done.\n"
     ]
    }
   ],
   "source": [
    "### RUN PROCEDURE ###\n",
    "print \"Starting sequence...\"\n",
    "\n",
    "scope.single()\n",
    "time.sleep(1)\n",
    "pulser.amplitude('DDS_1',WithUnit(-63,'dBm'))\n",
    "pulser.amplitude('DDS_2',WithUnit(-63,'dBm'))\n",
    "pulser.new_sequence()\n",
    "        \n",
    "for ttl in t3_switch_ttl: \n",
    "    pulser.add_ttl_pulse('ttl_3',WithUnit(ttl[0],'us'),WithUnit(ttl[1],'us'))\n",
    "        \n",
    "pulser.add_dds_pulses(t3)\n",
    "pulser.program_sequence()\n",
    "pulser.start_number(1)\n",
    "pulser.wait_sequence_done()\n",
    "pulser.stop_sequence()\n",
    "pulser.amplitude('DDS_1',WithUnit(-63,'dBm'))\n",
    "pulser.amplitude('DDS_2',WithUnit(-63,'dBm'))\n",
    "time.sleep(1)\n",
    "print \"Sequence done.\""
   ]
  },
  {
   "cell_type": "code",
   "execution_count": 243,
   "metadata": {
    "collapsed": false,
    "deletable": true,
    "editable": true
   },
   "outputs": [
    {
     "data": {
      "text/plain": [
       "Value(60.0, 'MHz')"
      ]
     },
     "execution_count": 243,
     "metadata": {},
     "output_type": "execute_result"
    }
   ],
   "source": [
    "pulser.amplitude('DDS_1',WithUnit(5,'dBm'))\n",
    "pulser.amplitude('DDS_2',WithUnit(10,'dBm'))\n",
    "pulser.frequency('DDS_1',WithUnit(60,'MHz'))\n",
    "pulser.frequency('DDS_2',WithUnit(60,'MHz'))"
   ]
  },
  {
   "cell_type": "code",
   "execution_count": 318,
   "metadata": {
    "collapsed": false,
    "deletable": true,
    "editable": true
   },
   "outputs": [
    {
     "data": {
      "text/plain": [
       "LabRAD Server: Pulser (ID=4)\n",
       "\n",
       "\n",
       "\n",
       "\n",
       "Settings:\n",
       "    add_dds_pulses\n",
       "    add_ttl_pulse\n",
       "    add_ttl_pulses\n",
       "    amplitude\n",
       "    clear_dds_lock\n",
       "    complete_infinite_iteration\n",
       "    debug\n",
       "    echo\n",
       "    extend_sequence_length\n",
       "    frequency\n",
       "    get_channels\n",
       "    get_collection_mode\n",
       "    get_collection_time\n",
       "    get_dds_amplitude_range\n",
       "    get_dds_channels\n",
       "    get_dds_frequency_range\n",
       "    get_line_trigger_limits\n",
       "    get_pmt_counts\n",
       "    get_readout_counts\n",
       "    get_secondary_pmt_counts\n",
       "    get_state\n",
       "    get_timetag_resolution\n",
       "    get_timetags\n",
       "    human_readable_dds\n",
       "    human_readable_ttl\n",
       "    internal_advance_dds\n",
       "    internal_reset_dds\n",
       "    line_trigger_duration\n",
       "    line_trigger_state\n",
       "    new_sequence\n",
       "    output\n",
       "    program_sequence\n",
       "    reinitialize_dds\n",
       "    repeatitions_completed\n",
       "    reset_fifo_normal\n",
       "    reset_readout_counts\n",
       "    reset_timetags\n",
       "    set_collection_time\n",
       "    set_mode\n",
       "    signal__log\n",
       "    signal__new_dds_parameter\n",
       "    signal__new_line_trigger_parameter\n",
       "    signal__switch_toggled\n",
       "    start_infinite\n",
       "    start_number\n",
       "    start_single\n",
       "    stop_sequence\n",
       "    switch_auto\n",
       "    switch_manual\n",
       "    wait_sequence_done"
      ]
     },
     "execution_count": 318,
     "metadata": {},
     "output_type": "execute_result"
    }
   ],
   "source": [
    "pulser"
   ]
  },
  {
   "cell_type": "code",
   "execution_count": null,
   "metadata": {
    "collapsed": true,
    "deletable": true,
    "editable": true
   },
   "outputs": [],
   "source": []
  }
 ],
 "metadata": {
  "kernelspec": {
   "display_name": "Python 2",
   "language": "python",
   "name": "python2"
  },
  "language_info": {
   "codemirror_mode": {
    "name": "ipython",
    "version": 2
   },
   "file_extension": ".py",
   "mimetype": "text/x-python",
   "name": "python",
   "nbconvert_exporter": "python",
   "pygments_lexer": "ipython2",
   "version": "2.7.3"
  }
 },
 "nbformat": 4,
 "nbformat_minor": 2
}
