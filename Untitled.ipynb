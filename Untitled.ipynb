{
 "cells": [
  {
   "cell_type": "code",
   "execution_count": 1,
   "metadata": {
    "collapsed": true,
    "deletable": true,
    "editable": true
   },
   "outputs": [],
   "source": [
    "def phase_coherent(DDS_sequence): \n",
    "    new_sequence= []\n",
    "    frequencies_times = {}\n",
    "    phases = [] #stores relative phase shifts in sequential order\n",
    "    abs_phase = 0   \n",
    "    last_end = 0\n",
    "    last_freq = 0\n",
    "    for dds in DDS_sequence: \n",
    "        frequency = dds[3][dds[3].units]\n",
    "        start = dds[1][dds[1].units]\n",
    "        duration = dds[2][dds[2].units]\n",
    "        end = start + duration\n",
    "        print frequency, start, duration, end \n",
    "        abs_phase = compute_phase(abs_phase, start-last_end, last_freq)%360\n",
    "        if frequency not in frequencies_times: \n",
    "            print \"last_end: \", last_end\n",
    "            print \"abs_phase 1: \", abs_phase\n",
    "            phases.append(0) #no phase shift needed for first pulse of frequency\n",
    "            abs_phase = compute_phase(abs_phase, duration, frequency)\n",
    "            print \"abs_phase 2: \", abs_phase\n",
    "            frequencies_times[frequency] = (frequency, end, abs_phase)\n",
    "            last_end = end\n",
    "            last_freq = frequency\n",
    "        else:\n",
    "            print \"last_end:\", last_end\n",
    "            dt = start - frequencies_times[frequency][1] #computes time difference between start of pulse and end of last pulse of same frequency\n",
    "            print \"dt: \", dt #why is this 19.4 - because the code doesn't consider the zero a\n",
    "            print \"abs_phase 1: \", abs_phase\n",
    "            #relative_phase = abs_phase - frequencies_times[frequency][2] #calculates relative phase shift from current pulse by finding difference between absolute phase at end of last puls of same frequency and absoluate phase at start of current pulse\n",
    "            last_phase = compute_phase(abs_phase, dt, frequency)\n",
    "            relative_phase = rel_phase(abs_phase, frequencies_times[frequency][2])\n",
    "            print \"relative_phase: \", relative_phase\n",
    "            phases.append(relative_phase)\n",
    "            abs_phase = (relative_phase + compute_phase(abs_phase, duration, frequency))%360\n",
    "            print \"abs_phase 2: \", abs_phase\n",
    "            frequencies_times[frequency] = (frequency, end, abs_phase)\n",
    "            last_end = end\n",
    "            frequencies_times[frequency] = (frequency, last_end, abs_phase)\n",
    "            last_freq = frequency\n",
    "    #modify each entry in input to correct phase     \n",
    "    for n in range(0, len(DDS_sequence)):\n",
    "        new_dds = [(DDS_sequence[n][0], DDS_sequence[n][1], DDS_sequence[n][2], DDS_sequence[n][3], DDS_sequence[n][4], WithUnit(phases[n], 'deg'), DDS_sequence[n][6], DDS_sequence[n][7])]\n",
    "        print phases[n]\n",
    "        new_sequence+=(new_dds)\n",
    "    return new_sequence     "
   ]
  },
  {
   "cell_type": "code",
   "execution_count": null,
   "metadata": {
    "collapsed": true
   },
   "outputs": [],
   "source": []
  }
 ],
 "metadata": {
  "kernelspec": {
   "display_name": "Python 2",
   "language": "python",
   "name": "python2"
  },
  "language_info": {
   "codemirror_mode": {
    "name": "ipython",
    "version": 2
   },
   "file_extension": ".py",
   "mimetype": "text/x-python",
   "name": "python",
   "nbconvert_exporter": "python",
   "pygments_lexer": "ipython2",
   "version": "2.7.3"
  }
 },
 "nbformat": 4,
 "nbformat_minor": 2
}
